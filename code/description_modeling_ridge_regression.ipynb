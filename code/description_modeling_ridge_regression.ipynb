{
 "cells": [
  {
   "cell_type": "markdown",
   "metadata": {},
   "source": [
    "## Imports"
   ]
  },
  {
   "cell_type": "code",
   "execution_count": 16,
   "metadata": {
    "collapsed": false
   },
   "outputs": [],
   "source": [
    "from utils import vmt_utils\n",
    "from utils import regression\n",
    "import matplotlib.pyplot as plt\n",
    "import numpy as np\n",
    "import copy\n",
    "import time\n",
    "import os\n",
    "import numpy as np\n",
    "import nibabel as nib\n",
    "import h5py\n",
    "import cPickle"
   ]
  },
  {
   "cell_type": "code",
   "execution_count": 17,
   "metadata": {
    "collapsed": true
   },
   "outputs": [],
   "source": [
    "%matplotlib inline"
   ]
  },
  {
   "cell_type": "code",
   "execution_count": 18,
   "metadata": {
    "collapsed": true
   },
   "outputs": [],
   "source": [
    "def load_data(filename):\n",
    "    \"\"\" Return fMRI data corresponding to the given filename and prints\n",
    "        shape of the data array\n",
    "    ----------\n",
    "    filename : string \n",
    "        This string should be a path to given file. The file must be\n",
    "        .nii \n",
    "    Returns\n",
    "    -------\n",
    "    data : numpy array\n",
    "        An array consisting of the data. \n",
    "    \"\"\"\n",
    "    img = nib.load(filename)\n",
    "    data = img.get_data()\n",
    "    data = data[:,:,:,4:]\n",
    "    print(data.shape)\n",
    "    return data\n",
    "\n",
    "def combine_run_arrays(run_array_lst):\n",
    "    \"\"\" Returns a combined 4d array by concatinating based on time (axis = 3)\n",
    "    ----------\n",
    "    run_array_lst : array of 4d numpy arrays \n",
    "\n",
    "    Returns\n",
    "    -------\n",
    "    4d numpy array \n",
    "    \"\"\"\n",
    "    return np.concatenate(run_array_lst, axis = 3)"
   ]
  },
  {
   "cell_type": "markdown",
   "metadata": {},
   "source": [
    "## Get data"
   ]
  },
  {
   "cell_type": "code",
   "execution_count": 201,
   "metadata": {
    "collapsed": false
   },
   "outputs": [
    {
     "name": "stdout",
     "output_type": "stream",
     "text": [
      "(160, 160, 36, 447)\n",
      "447\n",
      "(160, 160, 36, 437)\n",
      "433\n",
      "(160, 160, 36, 434)\n",
      "430\n",
      "(160, 160, 36, 484)\n",
      "480\n",
      "(160, 160, 36, 458)\n",
      "454\n",
      "(160, 160, 36, 435)\n",
      "431\n",
      "(160, 160, 36, 538)\n",
      "534\n",
      "(160, 160, 36, 259)\n",
      "259\n"
     ]
    }
   ],
   "source": [
    "#All file strings corresponding to BOLD data for subject 4 \n",
    "files = ['task001_run001.bold_dico.nii', 'task001_run002.bold_dico.nii', \n",
    "         'task001_run003.bold_dico.nii', 'task001_run004.bold_dico.nii', \n",
    "         'task001_run005.bold_dico.nii', 'task001_run006.bold_dico.nii',\n",
    "         'task001_run007.bold_dico.nii', 'task001_run008.bold_dico.nii']\n",
    "\n",
    "all_data = []\n",
    "for index, filename in enumerate(files):\n",
    "    new_data = load_data('../../data/' + filename) #load_data function drops first 4 for us\n",
    "    num_vols = new_data.shape[-1]\n",
    "    if index != 0 and index != 7:\n",
    "        new_num_vols = num_vols - 4   \n",
    "        new_data = new_data[:,:,:,:new_num_vols] #Drop last 4 volumes for middle runs    \n",
    "    print(new_data.shape[-1])\n",
    "    all_data.append(new_data)\n",
    "\n",
    "combined_runs = combine_run_arrays(all_data) \n",
    "# combined_runs = combined_runs[:,:,:,9:] #First 17 seconds are credits/no scene id so drop"
   ]
  },
  {
   "cell_type": "code",
   "execution_count": 202,
   "metadata": {
    "collapsed": false
   },
   "outputs": [
    {
     "data": {
      "text/plain": [
       "(160, 160, 36, 3468)"
      ]
     },
     "execution_count": 202,
     "metadata": {},
     "output_type": "execute_result"
    }
   ],
   "source": [
    "combined_runs.shape"
   ]
  },
  {
   "cell_type": "markdown",
   "metadata": {},
   "source": [
    "## Get feature space"
   ]
  },
  {
   "cell_type": "code",
   "execution_count": 19,
   "metadata": {
    "collapsed": false
   },
   "outputs": [],
   "source": [
    "# Get stimulus feature spaces\n",
    "stim_fs_fpath = '../description_pp/design_matrix_1.npy'\n",
    "stim_fs_file = np.load(stim_fs_fpath)\n",
    "stim_fs_file = stim_fs_file[0:3468,:]"
   ]
  },
  {
   "cell_type": "code",
   "execution_count": 20,
   "metadata": {
    "collapsed": false
   },
   "outputs": [
    {
     "data": {
      "text/plain": [
       "(3468, 1155)"
      ]
     },
     "execution_count": 20,
     "metadata": {},
     "output_type": "execute_result"
    }
   ],
   "source": [
    "stim_fs_file.shape"
   ]
  },
  {
   "cell_type": "markdown",
   "metadata": {},
   "source": [
    "## Separate Trainig and testing data"
   ]
  },
  {
   "cell_type": "code",
   "execution_count": 21,
   "metadata": {
    "collapsed": false
   },
   "outputs": [],
   "source": [
    "e, v = 3000, 468"
   ]
  },
  {
   "cell_type": "code",
   "execution_count": 22,
   "metadata": {
    "collapsed": false
   },
   "outputs": [],
   "source": [
    "stim_fs_est = stim_fs_file[:e,:]\n",
    "stim_fs_val = stim_fs_file[:v,:]"
   ]
  },
  {
   "cell_type": "code",
   "execution_count": 23,
   "metadata": {
    "collapsed": false
   },
   "outputs": [
    {
     "name": "stdout",
     "output_type": "stream",
     "text": [
      "Estimation feature space shape: (3000, 1155)\n",
      "Validation feature space shape: (468, 1155)\n"
     ]
    }
   ],
   "source": [
    "print('Estimation feature space shape: %s'%repr(stim_fs_est.shape))\n",
    "print('Validation feature space shape: %s'%repr(stim_fs_val.shape))"
   ]
  },
  {
   "cell_type": "code",
   "execution_count": 10,
   "metadata": {
    "collapsed": false
   },
   "outputs": [],
   "source": [
    "data_est = combined_runs[...,:e]\n",
    "data_val = combined_runs[...,:v]"
   ]
  },
  {
   "cell_type": "code",
   "execution_count": 12,
   "metadata": {
    "collapsed": false
   },
   "outputs": [
    {
     "name": "stdout",
     "output_type": "stream",
     "text": [
      "Estimation data shape: (160, 160, 36, 3000)\n",
      "Validation data shape: (160, 160, 36, 468)\n"
     ]
    }
   ],
   "source": [
    "print('Estimation data shape: %s'%repr(data_est.shape))\n",
    "print('Validation data shape: %s'%repr(data_val.shape))"
   ]
  },
  {
   "cell_type": "markdown",
   "metadata": {},
   "source": [
    "## compute variance of data and generate mask"
   ]
  },
  {
   "cell_type": "code",
   "execution_count": 16,
   "metadata": {
    "collapsed": false
   },
   "outputs": [],
   "source": [
    "dv = data_val.reshape((160*160*36, 468))"
   ]
  },
  {
   "cell_type": "code",
   "execution_count": 42,
   "metadata": {
    "collapsed": true
   },
   "outputs": [],
   "source": [
    "vdv = np.var(dv,axis=1)"
   ]
  },
  {
   "cell_type": "code",
   "execution_count": 48,
   "metadata": {
    "collapsed": false
   },
   "outputs": [
    {
     "data": {
      "text/plain": [
       "<matplotlib.text.Text at 0x7fe13c1b61d0>"
      ]
     },
     "execution_count": 48,
     "metadata": {},
     "output_type": "execute_result"
    },
    {
     "data": {
      "image/png": "[encoded data removed]",
      "text/plain": [
       "<matplotlib.figure.Figure at 0x7fe107b3c990>"
      ]
     },
     "metadata": {},
     "output_type": "display_data"
    }
   ],
   "source": [
    "plt.plot(vdv)\n",
    "plt.title('variance of each voxel')\n",
    "plt.ylabel('variance')\n",
    "plt.xlabel('voxels')"
   ]
  },
  {
   "cell_type": "code",
   "execution_count": 57,
   "metadata": {
    "collapsed": false
   },
   "outputs": [
    {
     "name": "stdout",
     "output_type": "stream",
     "text": [
      "34589\n"
     ]
    }
   ],
   "source": [
    "mask1000 = vdv>1000\n",
    "print sum(mask1000)\n",
    "np.save('../brain_mask/mask34589.npy',mask1000)"
   ]
  },
  {
   "cell_type": "code",
   "execution_count": 58,
   "metadata": {
    "collapsed": false
   },
   "outputs": [
    {
     "name": "stdout",
     "output_type": "stream",
     "text": [
      "3087\n"
     ]
    }
   ],
   "source": [
    "mask5000 = vdv>5000\n",
    "print sum(mask5000)\n",
    "np.save('../brain_mask/mask3087.npy',mask5000)"
   ]
  },
  {
   "cell_type": "code",
   "execution_count": 59,
   "metadata": {
    "collapsed": false
   },
   "outputs": [
    {
     "name": "stdout",
     "output_type": "stream",
     "text": [
      "6810\n"
     ]
    }
   ],
   "source": [
    "mask3000 = vdv>3000\n",
    "print sum(mask3000)\n",
    "np.save('../brain_mask/mask6810.npy',mask3000)"
   ]
  },
  {
   "cell_type": "markdown",
   "metadata": {},
   "source": [
    "## Mask fMRI data"
   ]
  },
  {
   "cell_type": "code",
   "execution_count": 24,
   "metadata": {
    "collapsed": true
   },
   "outputs": [],
   "source": [
    "#load mask\n",
    "mask_f =  np.load('../brain_mask/mask34589.npy')"
   ]
  },
  {
   "cell_type": "code",
   "execution_count": 25,
   "metadata": {
    "collapsed": false
   },
   "outputs": [],
   "source": [
    "mask = mask_f.reshape((36,160,160))"
   ]
  },
  {
   "cell_type": "code",
   "execution_count": null,
   "metadata": {
    "collapsed": false
   },
   "outputs": [],
   "source": [
    "dvm = dv[mask_f,:]"
   ]
  },
  {
   "cell_type": "code",
   "execution_count": 52,
   "metadata": {
    "collapsed": false
   },
   "outputs": [
    {
     "data": {
      "text/plain": [
       "(34589, 468)"
      ]
     },
     "execution_count": 52,
     "metadata": {},
     "output_type": "execute_result"
    }
   ],
   "source": [
    "dvm.shape"
   ]
  },
  {
   "cell_type": "code",
   "execution_count": 51,
   "metadata": {
    "collapsed": true
   },
   "outputs": [],
   "source": [
    "np.save('../data/BOLD_val_masked34589.npy',dvm)"
   ]
  },
  {
   "cell_type": "code",
   "execution_count": 42,
   "metadata": {
    "collapsed": false
   },
   "outputs": [
    {
     "name": "stdout",
     "output_type": "stream",
     "text": [
      "0\n",
      "1\n",
      "2\n",
      "3\n",
      "4\n",
      "5\n",
      "6\n",
      "7\n",
      "8\n",
      "9\n"
     ]
    }
   ],
   "source": [
    "data_est_masked = None\n",
    "for i in range(10):\n",
    "    print i\n",
    "    de1 = data_est[:,:,:,i*300:(i+1)*300].reshape((160*160*36, 300))\n",
    "    de1_masked = de1[mask,:]\n",
    "    if data_est_masked is None:\n",
    "        data_est_masked = de1_masked\n",
    "    data_est_masked = np.hstack((data_est_masked,de1_masked))"
   ]
  },
  {
   "cell_type": "code",
   "execution_count": 44,
   "metadata": {
    "collapsed": true
   },
   "outputs": [],
   "source": [
    "dem = data_est_masked[:,300:]"
   ]
  },
  {
   "cell_type": "code",
   "execution_count": 53,
   "metadata": {
    "collapsed": false
   },
   "outputs": [
    {
     "data": {
      "text/plain": [
       "(34589, 3000)"
      ]
     },
     "execution_count": 53,
     "metadata": {},
     "output_type": "execute_result"
    }
   ],
   "source": [
    "dem.shape"
   ]
  },
  {
   "cell_type": "code",
   "execution_count": 46,
   "metadata": {
    "collapsed": true
   },
   "outputs": [],
   "source": [
    "np.save('../data/BOLD_est_masked34589.npy',dem)"
   ]
  },
  {
   "cell_type": "code",
   "execution_count": 23,
   "metadata": {
    "collapsed": true
   },
   "outputs": [],
   "source": [
    "#a = np.array([[[1,2],[3,4]],[[5,6],[7,8]],[[9,10],[11,12]]])"
   ]
  },
  {
   "cell_type": "code",
   "execution_count": null,
   "metadata": {
    "collapsed": false
   },
   "outputs": [],
   "source": [
    "data_est_masked =  dem.T\n",
    "data_val_masked =  dvm.T\n",
    "# Show size of masked data\n",
    "print('Size of masked estimation data is %s'%repr(data_est_masked.shape))\n",
    "print('Size of masked validation data is %s'%repr(data_val_masked.shape))"
   ]
  },
  {
   "cell_type": "code",
   "execution_count": 14,
   "metadata": {
    "collapsed": false
   },
   "outputs": [
    {
     "name": "stdout",
     "output_type": "stream",
     "text": [
      "Size of masked estimation data is (1200, 58108)\n",
      "Size of masked validation data is (90, 58108)\n"
     ]
    }
   ],
   "source": [
    "# print('Size of masked estimation data is %s'%repr(data_est_masked.shape))\n",
    "# print('Size of masked validation data is %s'%repr(data_val_masked.shape))"
   ]
  },
  {
   "cell_type": "markdown",
   "metadata": {},
   "source": [
    "##Set up feature space matrix to do regression"
   ]
  },
  {
   "cell_type": "code",
   "execution_count": null,
   "metadata": {
    "collapsed": false
   },
   "outputs": [],
   "source": [
    "# Create lagged stimulus matrix\n",
    "efs = vmt_utils.add_lags(stim_fs_est,[2,3,4])\n",
    "vfs = vmt_utils.add_lags(stim_fs_val,[2,3,4])\n",
    "# Add column of ones\n",
    "efs = vmt_utils.add_constant(efs,is_first=True)\n",
    "vfs = vmt_utils.add_constant(vfs,is_first=True)"
   ]
  },
  {
   "cell_type": "code",
   "execution_count": 189,
   "metadata": {
    "collapsed": false
   },
   "outputs": [
    {
     "name": "stdout",
     "output_type": "stream",
     "text": [
      "(3000, 3466)\n",
      "(468, 3466)\n",
      "(1200, 3466)\n",
      "(90, 3466)\n"
     ]
    }
   ],
   "source": [
    "efs_subset = efs[:1200,:]\n",
    "vfs_subset = vfs[:90,:]\n",
    "print efs.shape\n",
    "print vfs.shape\n",
    "print efs_subset.shape\n",
    "print vfs_subset.shape"
   ]
  },
  {
   "cell_type": "markdown",
   "metadata": {},
   "source": [
    "## Load masked data\n"
   ]
  },
  {
   "cell_type": "code",
   "execution_count": 27,
   "metadata": {
    "collapsed": false
   },
   "outputs": [
    {
     "ename": "IOError",
     "evalue": "[Errno 2] No such file or directory: '../../data/BOLD_est_masked34589.npy'",
     "output_type": "error",
     "traceback": [
      "\u001b[0;31m---------------------------------------------------------------------------\u001b[0m",
      "\u001b[0;31mIOError\u001b[0m                                   Traceback (most recent call last)",
      "\u001b[0;32m<ipython-input-27-41aeda9f30e0>\u001b[0m in \u001b[0;36m<module>\u001b[0;34m()\u001b[0m\n\u001b[0;32m----> 1\u001b[0;31m \u001b[0mdata_est_masked\u001b[0m \u001b[0;34m=\u001b[0m \u001b[0mnp\u001b[0m\u001b[0;34m.\u001b[0m\u001b[0mload\u001b[0m\u001b[0;34m(\u001b[0m\u001b[0;34m'../../data/BOLD_est_masked34589.npy'\u001b[0m\u001b[0;34m)\u001b[0m\u001b[0;34m.\u001b[0m\u001b[0mT\u001b[0m\u001b[0;34m[\u001b[0m\u001b[0;34m:\u001b[0m\u001b[0;36m1200\u001b[0m\u001b[0;34m,\u001b[0m\u001b[0;34m:\u001b[0m\u001b[0;34m]\u001b[0m\u001b[0;34m\u001b[0m\u001b[0m\n\u001b[0m\u001b[1;32m      2\u001b[0m \u001b[0mdata_val_masked_subset\u001b[0m \u001b[0;34m=\u001b[0m \u001b[0mnp\u001b[0m\u001b[0;34m.\u001b[0m\u001b[0mload\u001b[0m\u001b[0;34m(\u001b[0m\u001b[0;34m'../../data/BOLD_val_masked34589.npy'\u001b[0m\u001b[0;34m)\u001b[0m\u001b[0;34m.\u001b[0m\u001b[0mT\u001b[0m\u001b[0;34m[\u001b[0m\u001b[0;34m:\u001b[0m\u001b[0;36m90\u001b[0m\u001b[0;34m,\u001b[0m\u001b[0;34m:\u001b[0m\u001b[0;34m]\u001b[0m\u001b[0;34m\u001b[0m\u001b[0m\n\u001b[1;32m      3\u001b[0m \u001b[0mdata_val_masked\u001b[0m \u001b[0;34m=\u001b[0m \u001b[0mnp\u001b[0m\u001b[0;34m.\u001b[0m\u001b[0mload\u001b[0m\u001b[0;34m(\u001b[0m\u001b[0;34m'../../data/BOLD_val_masked34589.npy'\u001b[0m\u001b[0;34m)\u001b[0m\u001b[0;34m.\u001b[0m\u001b[0mT\u001b[0m\u001b[0;34m\u001b[0m\u001b[0m\n\u001b[1;32m      4\u001b[0m \u001b[0;32mprint\u001b[0m\u001b[0;34m(\u001b[0m\u001b[0;34m'Size of masked estimation data is %s'\u001b[0m\u001b[0;34m%\u001b[0m\u001b[0mrepr\u001b[0m\u001b[0;34m(\u001b[0m\u001b[0mdata_est_masked\u001b[0m\u001b[0;34m.\u001b[0m\u001b[0mshape\u001b[0m\u001b[0;34m)\u001b[0m\u001b[0;34m)\u001b[0m\u001b[0;34m\u001b[0m\u001b[0m\n\u001b[1;32m      5\u001b[0m \u001b[0;32mprint\u001b[0m\u001b[0;34m(\u001b[0m\u001b[0;34m'Size of masked validation data is %s'\u001b[0m\u001b[0;34m%\u001b[0m\u001b[0mrepr\u001b[0m\u001b[0;34m(\u001b[0m\u001b[0mdata_val_masked\u001b[0m\u001b[0;34m.\u001b[0m\u001b[0mshape\u001b[0m\u001b[0;34m)\u001b[0m\u001b[0;34m)\u001b[0m\u001b[0;34m\u001b[0m\u001b[0m\n",
      "\u001b[0;32m/Users/AriaW/anaconda/lib/python2.7/site-packages/numpy/lib/npyio.pyc\u001b[0m in \u001b[0;36mload\u001b[0;34m(file, mmap_mode)\u001b[0m\n\u001b[1;32m    367\u001b[0m     \u001b[0mown_fid\u001b[0m \u001b[0;34m=\u001b[0m \u001b[0mFalse\u001b[0m\u001b[0;34m\u001b[0m\u001b[0m\n\u001b[1;32m    368\u001b[0m     \u001b[0;32mif\u001b[0m \u001b[0misinstance\u001b[0m\u001b[0;34m(\u001b[0m\u001b[0mfile\u001b[0m\u001b[0;34m,\u001b[0m \u001b[0mbasestring\u001b[0m\u001b[0;34m)\u001b[0m\u001b[0;34m:\u001b[0m\u001b[0;34m\u001b[0m\u001b[0m\n\u001b[0;32m--> 369\u001b[0;31m         \u001b[0mfid\u001b[0m \u001b[0;34m=\u001b[0m \u001b[0mopen\u001b[0m\u001b[0;34m(\u001b[0m\u001b[0mfile\u001b[0m\u001b[0;34m,\u001b[0m \u001b[0;34m\"rb\"\u001b[0m\u001b[0;34m)\u001b[0m\u001b[0;34m\u001b[0m\u001b[0m\n\u001b[0m\u001b[1;32m    370\u001b[0m         \u001b[0mown_fid\u001b[0m \u001b[0;34m=\u001b[0m \u001b[0mTrue\u001b[0m\u001b[0;34m\u001b[0m\u001b[0m\n\u001b[1;32m    371\u001b[0m     \u001b[0;32melif\u001b[0m \u001b[0misinstance\u001b[0m\u001b[0;34m(\u001b[0m\u001b[0mfile\u001b[0m\u001b[0;34m,\u001b[0m \u001b[0mgzip\u001b[0m\u001b[0;34m.\u001b[0m\u001b[0mGzipFile\u001b[0m\u001b[0;34m)\u001b[0m\u001b[0;34m:\u001b[0m\u001b[0;34m\u001b[0m\u001b[0m\n",
      "\u001b[0;31mIOError\u001b[0m: [Errno 2] No such file or directory: '../../data/BOLD_est_masked34589.npy'"
     ]
    }
   ],
   "source": [
    "data_est_masked = np.load('../data/BOLD_est_masked34589.npy').T[:1200,:]\n",
    "data_val_masked_subset = np.load('../data/BOLD_val_masked34589.npy').T[:90,:]\n",
    "data_val_masked = np.load('../data/BOLD_val_masked34589.npy').T\n",
    "print('Size of masked estimation data is %s'%repr(data_est_masked.shape))\n",
    "print('Size of masked validation data is %s'%repr(data_val_masked.shape))"
   ]
  },
  {
   "cell_type": "markdown",
   "metadata": {},
   "source": [
    "## Run regression"
   ]
  },
  {
   "cell_type": "code",
   "execution_count": 83,
   "metadata": {
    "collapsed": false
   },
   "outputs": [
    {
     "data": {
      "text/plain": [
       "array([  1.00000000e+00,   4.64158883e+00,   2.15443469e+01,\n",
       "         1.00000000e+02,   4.64158883e+02,   2.15443469e+03,\n",
       "         1.00000000e+04,   4.64158883e+04,   2.15443469e+05,\n",
       "         1.00000000e+06])"
      ]
     },
     "execution_count": 83,
     "metadata": {},
     "output_type": "execute_result"
    }
   ],
   "source": [
    "alpha = np.logspace(0,6,10)\n",
    "alpha"
   ]
  },
  {
   "cell_type": "code",
   "execution_count": 84,
   "metadata": {
    "collapsed": false,
    "scrolled": true
   },
   "outputs": [
    {
     "name": "stdout",
     "output_type": "stream",
     "text": [
      "Running split 1/10\n",
      "Running chunk 1 of 6...\n",
      "\n",
      "Running chunk 2 of 6...\n",
      "\n",
      "Running chunk 3 of 6...\n",
      "\n",
      "Running chunk 4 of 6...\n",
      "\n",
      "Running chunk 5 of 6...\n",
      "\n",
      "Running chunk 6 of 6...\n",
      "\n",
      "Running split 2/10\n",
      "Running chunk 1 of 6...\n",
      "\n",
      "Running chunk 2 of 6...\n",
      "\n",
      "Running chunk 3 of 6...\n",
      "\n",
      "Running chunk 4 of 6...\n",
      "\n",
      "Running chunk 5 of 6...\n",
      "\n",
      "Running chunk 6 of 6...\n",
      "\n",
      "Running split 3/10\n",
      "Running chunk 1 of 6...\n",
      "\n",
      "Running chunk 2 of 6...\n",
      "\n",
      "Running chunk 3 of 6...\n",
      "\n",
      "Running chunk 4 of 6...\n",
      "\n",
      "Running chunk 5 of 6...\n",
      "\n",
      "Running chunk 6 of 6...\n",
      "\n",
      "Running split 4/10\n",
      "Running chunk 1 of 6...\n",
      "\n",
      "Running chunk 2 of 6...\n",
      "\n",
      "Running chunk 3 of 6...\n",
      "\n",
      "Running chunk 4 of 6...\n",
      "\n",
      "Running chunk 5 of 6...\n",
      "\n",
      "Running chunk 6 of 6...\n",
      "\n",
      "Running split 5/10\n",
      "Running chunk 1 of 6...\n",
      "\n",
      "Running chunk 2 of 6...\n",
      "\n",
      "Running chunk 3 of 6...\n",
      "\n",
      "Running chunk 4 of 6...\n",
      "\n",
      "Running chunk 5 of 6...\n",
      "\n",
      "Running chunk 6 of 6...\n",
      "\n",
      "Running split 6/10\n",
      "Running chunk 1 of 6...\n",
      "\n",
      "Running chunk 2 of 6...\n",
      "\n",
      "Running chunk 3 of 6...\n",
      "\n",
      "Running chunk 4 of 6...\n",
      "\n",
      "Running chunk 5 of 6...\n",
      "\n",
      "Running chunk 6 of 6...\n",
      "\n",
      "Running split 7/10\n",
      "Running chunk 1 of 6...\n",
      "\n",
      "Running chunk 2 of 6...\n",
      "\n",
      "Running chunk 3 of 6...\n",
      "\n",
      "Running chunk 4 of 6...\n",
      "\n",
      "Running chunk 5 of 6...\n",
      "\n",
      "Running chunk 6 of 6...\n",
      "\n",
      "Running split 8/10\n",
      "Running chunk 1 of 6...\n",
      "\n",
      "Running chunk 2 of 6...\n",
      "\n",
      "Running chunk 3 of 6...\n",
      "\n",
      "Running chunk 4 of 6...\n",
      "\n",
      "Running chunk 5 of 6...\n",
      "\n",
      "Running chunk 6 of 6...\n",
      "\n",
      "Running split 9/10\n",
      "Running chunk 1 of 6...\n",
      "\n",
      "Running chunk 2 of 6...\n",
      "\n",
      "Running chunk 3 of 6...\n",
      "\n",
      "Running chunk 4 of 6...\n",
      "\n",
      "Running chunk 5 of 6...\n",
      "\n",
      "Running chunk 6 of 6...\n",
      "\n",
      "Running split 10/10\n",
      "Running chunk 1 of 6...\n",
      "\n",
      "Running chunk 2 of 6...\n",
      "\n",
      "Running chunk 3 of 6...\n",
      "\n",
      "Running chunk 4 of 6...\n",
      "\n",
      "Running chunk 5 of 6...\n",
      "\n",
      "Running chunk 6 of 6...\n",
      "\n",
      "Finding best alpha...\n",
      "Best alpha = 21.544\n",
      "Computing weights and model predictions...\n",
      "Running chunk 1 of 6...\n",
      "\n",
      "Running chunk 2 of 6...\n",
      "\n",
      "Running chunk 3 of 6...\n",
      "\n",
      "Running chunk 4 of 6...\n",
      "\n",
      "Running chunk 5 of 6...\n",
      "\n",
      "Running chunk 6 of 6...\n",
      "\n",
      "Elapsed time is: 72 min, 24 sec\n"
     ]
    }
   ],
   "source": [
    "# Run regression \n",
    "n_splits = 10 # number of subdivisions of validation data for cross validation of ridge parameter (alpha)\n",
    "n_resamps = 10 # number of times to compute regression & prediction within training data (can be <= n_splits)\n",
    "chunk_sz = 6000 # number of voxels to fit at once. Memory-saving.\n",
    "pthr = 0.005 # Ridge parameter is chosen based on how many voxels are predicted above a correlation threshold \n",
    "             # for each alpha value (technically it's slightly more complicated than that, see the code). \n",
    "             # This p value sets that correlation threshold.\n",
    "t0 = time.time()\n",
    "\n",
    "out = regression.ridge_cv(efs,data_est_masked,val_fs=vfs,val_data=data_val_masked,alphas=alpha,n_resamps=n_resamps,\n",
    "                              n_splits=n_splits,chunk_sz=chunk_sz,pthr=pthr,is_verbose=True)\n",
    "\n",
    "t1 = time.time()\n",
    "print(\"Elapsed time is: %d min, %d sec\"%((t1-t0)/60,(t1-t0)%60))"
   ]
  },
  {
   "cell_type": "code",
   "execution_count": 53,
   "metadata": {
    "collapsed": true
   },
   "outputs": [],
   "source": [
    "vmt.regression.ridge_cv?"
   ]
  },
  {
   "cell_type": "markdown",
   "metadata": {},
   "source": [
    "##Make sure estimation procedure chose a reasonable $\\alpha$ value\n",
    "There should be a somewhat obvious maximum in the curve plotted below"
   ]
  },
  {
   "cell_type": "code",
   "execution_count": 85,
   "metadata": {
    "collapsed": false
   },
   "outputs": [
    {
     "data": {
      "image/png": "[encoded data removed]",
      "text/plain": [
       "<matplotlib.figure.Figure at 0x7f6850f4f350>"
      ]
     },
     "metadata": {},
     "output_type": "display_data"
    }
   ],
   "source": [
    "# Plot number of voxels with significant prediction accuracy within the \n",
    "# estimation data for each alpha value\n",
    "na = len(out['n_sig_vox_byalpha'])\n",
    "plt.plot(range(na),out['n_sig_vox_byalpha'],'ko-',lw=2)\n",
    "# plt.xticks(range(na),vmt.regression.DEFAULT_ALPHAS,rotation=45)\n",
    "plt.xticks(range(na),alpha,rotation=45)\n",
    "plt.xlabel('Regularization parameter')\n",
    "_ = plt.ylabel('Number of voxels\\naccurately predicted')"
   ]
  },
  {
   "cell_type": "markdown",
   "metadata": {},
   "source": [
    "##Display prediction accuracy results on the cortical surface"
   ]
  },
  {
   "cell_type": "code",
   "execution_count": 86,
   "metadata": {
    "collapsed": false
   },
   "outputs": [
    {
     "data": {
      "text/plain": [
       "(34589,)"
      ]
     },
     "execution_count": 86,
     "metadata": {},
     "output_type": "execute_result"
    }
   ],
   "source": [
    "out['cc'].shape"
   ]
  },
  {
   "cell_type": "code",
   "execution_count": 95,
   "metadata": {
    "collapsed": true
   },
   "outputs": [],
   "source": [
    "cc = out['cc']"
   ]
  },
  {
   "cell_type": "code",
   "execution_count": 96,
   "metadata": {
    "collapsed": false
   },
   "outputs": [
    {
     "data": {
      "text/plain": [
       "<matplotlib.text.Text at 0x7f68501e2110>"
      ]
     },
     "execution_count": 96,
     "metadata": {},
     "output_type": "execute_result"
    },
    {
     "data": {
      "image/png": "[encoded data removed]",
      "text/plain": [
       "<matplotlib.figure.Figure at 0x7f685058f150>"
      ]
     },
     "metadata": {},
     "output_type": "display_data"
    }
   ],
   "source": [
    "plt.hist(np.nan_to_num(out['cc']),21)\n",
    "plt.title('correlation coefficient histogram')"
   ]
  },
  {
   "cell_type": "code",
   "execution_count": 186,
   "metadata": {
    "collapsed": false
   },
   "outputs": [
    {
     "data": {
      "text/plain": [
       "(3466, 34589)"
      ]
     },
     "execution_count": 186,
     "metadata": {},
     "output_type": "execute_result"
    }
   ],
   "source": [
    "weights.shape"
   ]
  },
  {
   "cell_type": "code",
   "execution_count": 191,
   "metadata": {
    "collapsed": false
   },
   "outputs": [],
   "source": [
    "voxel_idx = np.argsort(cc)[::-1][:100]"
   ]
  },
  {
   "cell_type": "code",
   "execution_count": 200,
   "metadata": {
    "collapsed": false
   },
   "outputs": [
    {
     "name": "stdout",
     "output_type": "stream",
     "text": [
      "34274\n",
      "1\n",
      "1\n",
      "34380\n",
      "1\n",
      "2\n",
      "496\n",
      "2\n",
      "1\n",
      "6625\n",
      "2\n",
      "2\n"
     ]
    },
    {
     "data": {
      "image/png": "[encoded data removed]",
      "text/plain": [
       "<matplotlib.figure.Figure at 0x7f919a869f90>"
      ]
     },
     "metadata": {},
     "output_type": "display_data"
    }
   ],
   "source": [
    "plt.figure(figsize=(5,10))\n",
    "for n in range(4):\n",
    "    i = voxel_idx[n+10]\n",
    "    print i\n",
    "    print n//2+1\n",
    "    print n%2+1\n",
    "    pred_activity = vfs_subset.dot(weights[:,i])\n",
    "    plt.subplot(4,n//4+1,n%4+1)\n",
    "    l1, = plt.plot(data_val_masked_subset[:,i],'b')\n",
    "    l2, = plt.plot(pred_activity,'r')\n",
    "    plt.ylabel('BOLD response')\n",
    "    plt.xlabel('TRs')\n",
    "    plt.title('well predict voxel %d\\n'%i)\n",
    "    plt.legend([l1, l2], ['data','prediction'],loc=2)\n",
    "    \n",
    "plt.tight_layout()"
   ]
  },
  {
   "cell_type": "code",
   "execution_count": 197,
   "metadata": {
    "collapsed": false
   },
   "outputs": [
    {
     "data": {
      "text/plain": [
       "(1200, 34589)"
      ]
     },
     "execution_count": 197,
     "metadata": {},
     "output_type": "execute_result"
    }
   ],
   "source": [
    "data_est_masked.shape"
   ]
  },
  {
   "cell_type": "code",
   "execution_count": 199,
   "metadata": {
    "collapsed": false
   },
   "outputs": [
    {
     "data": {
      "text/plain": [
       "[<matplotlib.lines.Line2D at 0x7f910b306150>]"
      ]
     },
     "execution_count": 199,
     "metadata": {},
     "output_type": "execute_result"
    },
    {
     "data": {
      "image/png": "[encoded data removed]",
      "text/plain": [
       "<matplotlib.figure.Figure at 0x7f91641f6c10>"
      ]
     },
     "metadata": {},
     "output_type": "display_data"
    }
   ],
   "source": [
    "plt.plot(data_val_masked[:,1000])"
   ]
  },
  {
   "cell_type": "code",
   "execution_count": 142,
   "metadata": {
    "collapsed": false
   },
   "outputs": [
    {
     "data": {
      "text/plain": [
       "<matplotlib.text.Text at 0x7f919a6c9a90>"
      ]
     },
     "execution_count": 142,
     "metadata": {},
     "output_type": "execute_result"
    },
    {
     "data": {
      "image/png": "[encoded data removed]",
      "text/plain": [
       "<matplotlib.figure.Figure at 0x7f919a4ac210>"
      ]
     },
     "metadata": {},
     "output_type": "display_data"
    }
   ],
   "source": [
    "plot"
   ]
  },
  {
   "cell_type": "code",
   "execution_count": 127,
   "metadata": {
    "collapsed": false
   },
   "outputs": [
    {
     "data": {
      "text/plain": [
       "28432"
      ]
     },
     "execution_count": 127,
     "metadata": {},
     "output_type": "execute_result"
    }
   ],
   "source": [
    "sum(cc>0.6)"
   ]
  },
  {
   "cell_type": "code",
   "execution_count": 90,
   "metadata": {
    "collapsed": true
   },
   "outputs": [],
   "source": [
    "# output the regression output\n",
    "output_fpath = '../../data/regression_output.hdf5'"
   ]
  },
  {
   "cell_type": "code",
   "execution_count": 97,
   "metadata": {
    "collapsed": false
   },
   "outputs": [],
   "source": [
    "with h5py.File(output_fpath,'w') as f:\n",
    "    brDset = f.create_dataset('br', br.shape, br.dtype)\n",
    "    brDset[:] = br\n",
    "    \n",
    "    ccDset = f.create_dataset('cc', cc.shape, cc.dtype)\n",
    "    ccDset[:] = cc\n",
    "\n",
    "    weightsDset = f.create_dataset('weights',out['weights'].shape, out['weights'].dtype)\n",
    "    weightsDset[:] = out['weights']"
   ]
  },
  {
   "cell_type": "code",
   "execution_count": 98,
   "metadata": {
    "collapsed": false
   },
   "outputs": [
    {
     "data": {
      "text/plain": [
       "['cc', 'alpha', 'n_sig_vox_byalpha', 'weights']"
      ]
     },
     "execution_count": 98,
     "metadata": {},
     "output_type": "execute_result"
    }
   ],
   "source": [
    "out.keys()"
   ]
  },
  {
   "cell_type": "code",
   "execution_count": 77,
   "metadata": {
    "collapsed": false
   },
   "outputs": [],
   "source": [
    "# input the regression output in the case of firefox crash\n",
    "with h5py.File(output_fpath,'r') as hf:\n",
    "    br = hf['br'].value\n",
    "    weights = hf['weights'].value\n",
    "    cc = hf['cc'].value"
   ]
  },
  {
   "cell_type": "code",
   "execution_count": 15,
   "metadata": {
    "collapsed": false
   },
   "outputs": [
    {
     "data": {
      "text/plain": [
       "-0.14837539196014404"
      ]
     },
     "execution_count": 15,
     "metadata": {},
     "output_type": "execute_result"
    }
   ],
   "source": [
    "np.nanmin(br)"
   ]
  },
  {
   "cell_type": "code",
   "execution_count": 16,
   "metadata": {
    "collapsed": false
   },
   "outputs": [
    {
     "data": {
      "text/plain": [
       "0.97725570201873779"
      ]
     },
     "execution_count": 16,
     "metadata": {},
     "output_type": "execute_result"
    }
   ],
   "source": [
    "np.nanmax(br)"
   ]
  },
  {
   "cell_type": "code",
   "execution_count": 18,
   "metadata": {
    "collapsed": false
   },
   "outputs": [],
   "source": [
    "# load all the nouns in movie labels\n",
    "word_list_path = '../description_pp/word_list.p'\n",
    "f = file(word_list_path, 'rb')\n",
    "word_list = cPickle.load(f)\n",
    "f.close()"
   ]
  },
  {
   "cell_type": "code",
   "execution_count": 19,
   "metadata": {
    "collapsed": false
   },
   "outputs": [
    {
     "data": {
      "text/plain": [
       "1155"
      ]
     },
     "execution_count": 19,
     "metadata": {},
     "output_type": "execute_result"
    }
   ],
   "source": [
    "len(word_list)"
   ]
  }
 ],
 "metadata": {
  "kernelspec": {
   "display_name": "Python 2",
   "language": "python",
   "name": "python2"
  },
  "language_info": {
   "codemirror_mode": {
    "name": "ipython",
    "version": 2
   },
   "file_extension": ".py",
   "mimetype": "text/x-python",
   "name": "python",
   "nbconvert_exporter": "python",
   "pygments_lexer": "ipython2",
   "version": "2.7.10"
  }
 },
 "nbformat": 4,
 "nbformat_minor": 0
}

{
 "cells": [
  {
   "cell_type": "markdown",
   "metadata": {},
   "source": [
    "## Imports"
   ]
  },
  {
   "cell_type": "code",
   "execution_count": 43,
   "metadata": {
    "collapsed": false
   },
   "outputs": [],
   "source": [
    "from utils import vmt_utils\n",
    "from utils import regression\n",
    "import matplotlib.pyplot as plt\n",
    "import numpy as np\n",
    "import copy\n",
    "import time\n",
    "import os\n",
    "import nibabel as nib\n",
    "# import h5py\n",
    "import cPickle"
   ]
  },
  {
   "cell_type": "code",
   "execution_count": 44,
   "metadata": {
    "collapsed": true
   },
   "outputs": [],
   "source": [
    "%matplotlib inline"
   ]
  },
  {
   "cell_type": "code",
   "execution_count": 45,
   "metadata": {
    "collapsed": false
   },
   "outputs": [
    {
     "data": {
      "text/plain": [
       "<module 'utils.regression' from 'utils/regression.pyc'>"
      ]
     },
     "execution_count": 45,
     "metadata": {},
     "output_type": "execute_result"
    }
   ],
   "source": [
    "reload(regression)"
   ]
  },
  {
   "cell_type": "markdown",
   "metadata": {},
   "source": [
    "## Get masked data"
   ]
  },
  {
   "cell_type": "code",
   "execution_count": 46,
   "metadata": {
    "collapsed": false
   },
   "outputs": [],
   "source": [
    "data = np.load('../data/masked_data_50k.npy')"
   ]
  },
  {
   "cell_type": "code",
   "execution_count": 47,
   "metadata": {
    "collapsed": false
   },
   "outputs": [
    {
     "data": {
      "text/plain": [
       "(55468, 3543)"
      ]
     },
     "execution_count": 47,
     "metadata": {},
     "output_type": "execute_result"
    }
   ],
   "source": [
    "data.shape"
   ]
  },
  {
   "cell_type": "code",
   "execution_count": 48,
   "metadata": {
    "collapsed": false
   },
   "outputs": [
    {
     "data": {
      "text/plain": [
       "(array([  5.47290000e+04,   5.44000000e+02,   1.21000000e+02,\n",
       "          4.20000000e+01,   1.90000000e+01,   8.00000000e+00,\n",
       "          1.00000000e+00,   2.00000000e+00,   1.00000000e+00,\n",
       "          1.00000000e+00]),\n",
       " array([      0.        ,   21262.41620456,   42524.83240912,\n",
       "          63787.24861368,   85049.66481824,  106312.0810228 ,\n",
       "         127574.49722736,  148836.91343192,  170099.32963648,\n",
       "         191361.74584104,  212624.1620456 ]),\n",
       " <a list of 10 Patch objects>)"
      ]
     },
     "execution_count": 48,
     "metadata": {},
     "output_type": "execute_result"
    },
    {
     "data": {
      "image/png": "[encoded data removed]",
      "text/plain": [
       "<matplotlib.figure.Figure at 0x1083b7b50>"
      ]
     },
     "metadata": {},
     "output_type": "display_data"
    }
   ],
   "source": [
    "plt.hist(np.var(data,axis=1))"
   ]
  },
  {
   "cell_type": "code",
   "execution_count": 23,
   "metadata": {
    "collapsed": false
   },
   "outputs": [
    {
     "data": {
      "text/plain": [
       "[<matplotlib.lines.Line2D at 0x1233b5c50>]"
      ]
     },
     "execution_count": 23,
     "metadata": {},
     "output_type": "execute_result"
    },
    {
     "data": {
      "image/png": "[encoded data removed]",
      "text/plain": [
       "<matplotlib.figure.Figure at 0x1231fe5d0>"
      ]
     },
     "metadata": {},
     "output_type": "display_data"
    }
   ],
   "source": [
    "plt.plot(data[16188,:50])"
   ]
  },
  {
   "cell_type": "markdown",
   "metadata": {},
   "source": [
    "## Get feature space"
   ]
  },
  {
   "cell_type": "code",
   "execution_count": 49,
   "metadata": {
    "collapsed": false
   },
   "outputs": [],
   "source": [
    "# Get stimulus feature spaces\n",
    "stim_fs_fpath = '../description_pp/design_matrix_1.npy'\n",
    "stim_fs_file = np.load(stim_fs_fpath)\n",
    "stim_fs_file = stim_fs_file[:3543,:]"
   ]
  },
  {
   "cell_type": "code",
   "execution_count": 50,
   "metadata": {
    "collapsed": false
   },
   "outputs": [
    {
     "data": {
      "text/plain": [
       "(3543, 1155)"
      ]
     },
     "execution_count": 50,
     "metadata": {},
     "output_type": "execute_result"
    }
   ],
   "source": [
    "stim_fs_file.shape"
   ]
  },
  {
   "cell_type": "markdown",
   "metadata": {},
   "source": [
    "## Separate Trainig and testing data"
   ]
  },
  {
   "cell_type": "code",
   "execution_count": 51,
   "metadata": {
    "collapsed": false
   },
   "outputs": [],
   "source": [
    "e, v = 3000, 543"
   ]
  },
  {
   "cell_type": "code",
   "execution_count": 52,
   "metadata": {
    "collapsed": false
   },
   "outputs": [],
   "source": [
    "stim_fs_est = stim_fs_file[:e,:]\n",
    "stim_fs_val = stim_fs_file[:v,:]"
   ]
  },
  {
   "cell_type": "code",
   "execution_count": 53,
   "metadata": {
    "collapsed": false
   },
   "outputs": [
    {
     "name": "stdout",
     "output_type": "stream",
     "text": [
      "Estimation feature space shape: (3000, 1155)\n",
      "Validation feature space shape: (543, 1155)\n"
     ]
    }
   ],
   "source": [
    "print('Estimation feature space shape: %s'%repr(stim_fs_est.shape))\n",
    "print('Validation feature space shape: %s'%repr(stim_fs_val.shape))"
   ]
  },
  {
   "cell_type": "code",
   "execution_count": 54,
   "metadata": {
    "collapsed": false
   },
   "outputs": [],
   "source": [
    "data_est = data[...,:e]\n",
    "data_val = data[...,:v]"
   ]
  },
  {
   "cell_type": "code",
   "execution_count": 55,
   "metadata": {
    "collapsed": false
   },
   "outputs": [
    {
     "name": "stdout",
     "output_type": "stream",
     "text": [
      "Size of masked estimation data is (3000, 55468)\n",
      "Size of masked validation data is (543, 55468)\n"
     ]
    }
   ],
   "source": [
    "data_est_masked = data_est.T\n",
    "data_val_masked = data_val.T\n",
    "# Show size of masked data\n",
    "print('Size of masked estimation data is %s'%repr(data_est_masked.shape))\n",
    "print('Size of masked validation data is %s'%repr(data_val_masked.shape))"
   ]
  },
  {
   "cell_type": "markdown",
   "metadata": {},
   "source": [
    "## Set up feature space matrix to do regression"
   ]
  },
  {
   "cell_type": "code",
   "execution_count": 56,
   "metadata": {
    "collapsed": false
   },
   "outputs": [],
   "source": [
    "# Create lagged stimulus matrix\n",
    "efs = vmt_utils.add_lags(stim_fs_est,[2,3,4])\n",
    "vfs = vmt_utils.add_lags(stim_fs_val,[2,3,4])\n",
    "# Add column of ones\n",
    "efs = vmt_utils.add_constant(efs,is_first=True)\n",
    "vfs = vmt_utils.add_constant(vfs,is_first=True)"
   ]
  },
  {
   "cell_type": "markdown",
   "metadata": {},
   "source": [
    "# Subset data and stimuli"
   ]
  },
  {
   "cell_type": "code",
   "execution_count": 63,
   "metadata": {
    "collapsed": true
   },
   "outputs": [],
   "source": [
    "ts = 1000 #training subset\n",
    "es = 143 #estimation subset"
   ]
  },
  {
   "cell_type": "code",
   "execution_count": 64,
   "metadata": {
    "collapsed": false
   },
   "outputs": [
    {
     "name": "stdout",
     "output_type": "stream",
     "text": [
      "(1000, 3466)\n",
      "(143, 3466)\n"
     ]
    }
   ],
   "source": [
    "efs = efs[:ts,:]\n",
    "vfs = vfs[:es,:]\n",
    "print efs.shape\n",
    "print vfs.shape"
   ]
  },
  {
   "cell_type": "code",
   "execution_count": 65,
   "metadata": {
    "collapsed": false
   },
   "outputs": [
    {
     "name": "stdout",
     "output_type": "stream",
     "text": [
      "(1000, 55468)\n",
      "(143, 55468)\n"
     ]
    }
   ],
   "source": [
    "data_est_masked = data_est_masked[:ts,:]\n",
    "data_val_masked = data_val_masked[:es,:]\n",
    "print data_est_masked.shape\n",
    "print data_val_masked.shape"
   ]
  },
  {
   "cell_type": "markdown",
   "metadata": {},
   "source": [
    "## Run regression"
   ]
  },
  {
   "cell_type": "code",
   "execution_count": 66,
   "metadata": {
    "collapsed": false
   },
   "outputs": [
    {
     "data": {
      "text/plain": [
       "<module 'utils.vmt_utils' from 'utils/vmt_utils.pyc'>"
      ]
     },
     "execution_count": 66,
     "metadata": {},
     "output_type": "execute_result"
    }
   ],
   "source": [
    "reload(vmt_utils)"
   ]
  },
  {
   "cell_type": "code",
   "execution_count": 67,
   "metadata": {
    "collapsed": false
   },
   "outputs": [
    {
     "data": {
      "text/plain": [
       "array([  1.00000000e+00,   4.64158883e+00,   2.15443469e+01,\n",
       "         1.00000000e+02,   4.64158883e+02,   2.15443469e+03,\n",
       "         1.00000000e+04,   4.64158883e+04,   2.15443469e+05,\n",
       "         1.00000000e+06])"
      ]
     },
     "execution_count": 67,
     "metadata": {},
     "output_type": "execute_result"
    }
   ],
   "source": [
    "alpha = np.logspace(0,6,10)\n",
    "alpha"
   ]
  },
  {
   "cell_type": "code",
   "execution_count": 68,
   "metadata": {
    "collapsed": false,
    "scrolled": true
   },
   "outputs": [
    {
     "name": "stdout",
     "output_type": "stream",
     "text": [
      "Running split 1/10\n",
      "Running chunk 1 of 10...\n",
      "\n",
      "Running chunk 2 of 10...\n",
      "\n",
      "Running chunk 3 of 10...\n",
      "\n",
      "Running chunk 4 of 10...\n",
      "\n",
      "Running chunk 5 of 10...\n",
      "\n",
      "Running chunk 6 of 10...\n",
      "\n",
      "Running chunk 7 of 10...\n",
      "\n",
      "Running chunk 8 of 10...\n",
      "\n",
      "Running chunk 9 of 10...\n",
      "\n",
      "Running chunk 10 of 10...\n",
      "\n",
      "Running split 2/10\n",
      "Running chunk 1 of 10...\n",
      "\n",
      "Running chunk 2 of 10...\n",
      "\n",
      "Running chunk 3 of 10...\n",
      "\n",
      "Running chunk 4 of 10...\n",
      "\n",
      "Running chunk 5 of 10...\n",
      "\n",
      "Running chunk 6 of 10...\n",
      "\n",
      "Running chunk 7 of 10...\n",
      "\n",
      "Running chunk 8 of 10...\n",
      "\n",
      "Running chunk 9 of 10...\n",
      "\n",
      "Running chunk 10 of 10...\n",
      "\n",
      "Running split 3/10\n",
      "Running chunk 1 of 10...\n",
      "\n",
      "Running chunk 2 of 10...\n",
      "\n",
      "Running chunk 3 of 10...\n",
      "\n",
      "Running chunk 4 of 10...\n",
      "\n",
      "Running chunk 5 of 10...\n",
      "\n",
      "Running chunk 6 of 10...\n",
      "\n",
      "Running chunk 7 of 10...\n",
      "\n",
      "Running chunk 8 of 10...\n",
      "\n",
      "Running chunk 9 of 10...\n",
      "\n",
      "Running chunk 10 of 10...\n",
      "\n",
      "Running split 4/10\n",
      "Running chunk 1 of 10...\n",
      "\n",
      "Running chunk 2 of 10...\n",
      "\n",
      "Running chunk 3 of 10...\n",
      "\n",
      "Running chunk 4 of 10...\n",
      "\n",
      "Running chunk 5 of 10...\n",
      "\n",
      "Running chunk 6 of 10...\n",
      "\n",
      "Running chunk 7 of 10...\n",
      "\n",
      "Running chunk 8 of 10...\n",
      "\n",
      "Running chunk 9 of 10...\n",
      "\n",
      "Running chunk 10 of 10...\n",
      "\n",
      "Running split 5/10\n",
      "Running chunk 1 of 10...\n",
      "\n",
      "Running chunk 2 of 10...\n",
      "\n",
      "Running chunk 3 of 10...\n",
      "\n",
      "Running chunk 4 of 10...\n",
      "\n",
      "Running chunk 5 of 10...\n",
      "\n",
      "Running chunk 6 of 10...\n",
      "\n",
      "Running chunk 7 of 10...\n",
      "\n",
      "Running chunk 8 of 10...\n",
      "\n",
      "Running chunk 9 of 10...\n",
      "\n",
      "Running chunk 10 of 10...\n",
      "\n",
      "Running split 6/10\n",
      "Running chunk 1 of 10...\n",
      "\n",
      "Running chunk 2 of 10...\n",
      "\n",
      "Running chunk 3 of 10...\n",
      "\n",
      "Running chunk 4 of 10...\n",
      "\n",
      "Running chunk 5 of 10...\n",
      "\n",
      "Running chunk 6 of 10...\n",
      "\n",
      "Running chunk 7 of 10...\n",
      "\n",
      "Running chunk 8 of 10...\n",
      "\n",
      "Running chunk 9 of 10...\n",
      "\n",
      "Running chunk 10 of 10...\n",
      "\n",
      "Running split 7/10\n",
      "Running chunk 1 of 10...\n",
      "\n",
      "Running chunk 2 of 10...\n",
      "\n",
      "Running chunk 3 of 10...\n",
      "\n",
      "Running chunk 4 of 10...\n",
      "\n",
      "Running chunk 5 of 10...\n",
      "\n",
      "Running chunk 6 of 10...\n",
      "\n",
      "Running chunk 7 of 10...\n",
      "\n",
      "Running chunk 8 of 10...\n",
      "\n",
      "Running chunk 9 of 10...\n",
      "\n",
      "Running chunk 10 of 10...\n",
      "\n",
      "Running split 8/10\n",
      "Running chunk 1 of 10...\n",
      "\n",
      "Running chunk 2 of 10...\n",
      "\n",
      "Running chunk 3 of 10...\n",
      "\n",
      "Running chunk 4 of 10...\n",
      "\n",
      "Running chunk 5 of 10...\n",
      "\n",
      "Running chunk 6 of 10...\n",
      "\n",
      "Running chunk 7 of 10...\n",
      "\n",
      "Running chunk 8 of 10...\n",
      "\n",
      "Running chunk 9 of 10...\n",
      "\n",
      "Running chunk 10 of 10...\n",
      "\n",
      "Running split 9/10\n",
      "Running chunk 1 of 10...\n",
      "\n",
      "Running chunk 2 of 10...\n",
      "\n",
      "Running chunk 3 of 10...\n",
      "\n",
      "Running chunk 4 of 10...\n",
      "\n",
      "Running chunk 5 of 10...\n",
      "\n",
      "Running chunk 6 of 10...\n",
      "\n",
      "Running chunk 7 of 10...\n",
      "\n",
      "Running chunk 8 of 10...\n",
      "\n",
      "Running chunk 9 of 10...\n",
      "\n",
      "Running chunk 10 of 10...\n",
      "\n",
      "Running split 10/10\n",
      "Running chunk 1 of 10...\n",
      "\n",
      "Running chunk 2 of 10...\n",
      "\n",
      "Running chunk 3 of 10...\n",
      "\n",
      "Running chunk 4 of 10...\n",
      "\n",
      "Running chunk 5 of 10...\n",
      "\n",
      "Running chunk 6 of 10...\n",
      "\n",
      "Running chunk 7 of 10...\n",
      "\n",
      "Running chunk 8 of 10...\n",
      "\n",
      "Running chunk 9 of 10...\n",
      "\n",
      "Running chunk 10 of 10...\n",
      "\n",
      "Finding best alpha..."
     ]
    },
    {
     "name": "stderr",
     "output_type": "stream",
     "text": [
      "utils/regression.py:206: RuntimeWarning: invalid value encountered in greater\n",
      "  n_sig_vox_byalpha = sum(trncc_byvox>sig_thresh)-sum(trncc_byvox<-sig_thresh)\n",
      "utils/regression.py:206: RuntimeWarning: invalid value encountered in less\n",
      "  n_sig_vox_byalpha = sum(trncc_byvox>sig_thresh)-sum(trncc_byvox<-sig_thresh)\n"
     ]
    },
    {
     "name": "stdout",
     "output_type": "stream",
     "text": [
      "\n",
      "Best alpha = 1.000\n",
      "Computing weights and model predictions...\n",
      "Running chunk 1 of 10...\n",
      "\n",
      "Running chunk 2 of 10...\n",
      "\n",
      "Running chunk 3 of 10...\n",
      "\n",
      "Running chunk 4 of 10...\n",
      "\n",
      "Running chunk 5 of 10...\n",
      "\n",
      "Running chunk 6 of 10...\n",
      "\n",
      "Running chunk 7 of 10...\n",
      "\n",
      "Running chunk 8 of 10...\n",
      "\n",
      "Running chunk 9 of 10...\n",
      "\n",
      "Running chunk 10 of 10...\n",
      "\n",
      "Elapsed time is: 3 min, 19 sec\n"
     ]
    }
   ],
   "source": [
    "# Run regression \n",
    "n_splits = 10 # number of subdivisions of validation data for cross validation of ridge parameter (alpha)\n",
    "n_resamps = 10 # number of times to compute regression & prediction within training data (can be <= n_splits)\n",
    "chunk_sz = 6000 # number of voxels to fit at once. Memory-saving.\n",
    "pthr = 0.005 # Ridge parameter is chosen based on how many voxels are predicted above a correlation threshold \n",
    "             # for each alpha value (technically it's slightly more complicated than that, see the code). \n",
    "             # This p value sets that correlation threshold.\n",
    "t0 = time.time()\n",
    "\n",
    "out = regression.ridge_cv(efs,data_est_masked,val_fs=vfs,val_data=data_val_masked,alphas=alpha,n_resamps=n_resamps,\n",
    "                              n_splits=n_splits,chunk_sz=chunk_sz,pthr=pthr,is_verbose=True)\n",
    "\n",
    "t1 = time.time()\n",
    "print(\"Elapsed time is: %d min, %d sec\"%((t1-t0)/60,(t1-t0)%60))"
   ]
  },
  {
   "cell_type": "markdown",
   "metadata": {},
   "source": [
    "## Make sure estimation procedure chose a reasonable $\\alpha$ value\n",
    "There should be a somewhat obvious maximum in the curve plotted below"
   ]
  },
  {
   "cell_type": "code",
   "execution_count": 47,
   "metadata": {
    "collapsed": false
   },
   "outputs": [
    {
     "data": {
      "image/png": "[encoded data removed]",
      "text/plain": [
       "<matplotlib.figure.Figure at 0x127489b50>"
      ]
     },
     "metadata": {},
     "output_type": "display_data"
    }
   ],
   "source": [
    "# Plot number of voxels with significant prediction accuracy within the \n",
    "# estimation data for each alpha value\n",
    "na = len(out['n_sig_vox_byalpha'])\n",
    "plt.plot(range(na),out['n_sig_vox_byalpha'],'ko-',lw=2)\n",
    "# plt.xticks(range(na),vmt.regression.DEFAULT_ALPHAS,rotation=45)\n",
    "plt.xticks(range(na),alpha,rotation=45)\n",
    "plt.xlabel('Regularization parameter')\n",
    "_ = plt.ylabel('Number of voxels\\naccurately predicted')"
   ]
  },
  {
   "cell_type": "markdown",
   "metadata": {},
   "source": [
    "## Display prediction accuracy results on the cortical surface"
   ]
  },
  {
   "cell_type": "code",
   "execution_count": 48,
   "metadata": {
    "collapsed": false
   },
   "outputs": [
    {
     "data": {
      "text/plain": [
       "(55468,)"
      ]
     },
     "execution_count": 48,
     "metadata": {},
     "output_type": "execute_result"
    }
   ],
   "source": [
    "out['cc'].shape"
   ]
  },
  {
   "cell_type": "code",
   "execution_count": 49,
   "metadata": {
    "collapsed": true
   },
   "outputs": [],
   "source": [
    "cc = out['cc']\n",
    "weights = out['weights']"
   ]
  },
  {
   "cell_type": "code",
   "execution_count": 50,
   "metadata": {
    "collapsed": false
   },
   "outputs": [
    {
     "data": {
      "text/plain": [
       "<matplotlib.text.Text at 0x122c2e4d0>"
      ]
     },
     "execution_count": 50,
     "metadata": {},
     "output_type": "execute_result"
    },
    {
     "data": {
      "image/png": "[encoded data removed]",
      "text/plain": [
       "<matplotlib.figure.Figure at 0x12238db10>"
      ]
     },
     "metadata": {},
     "output_type": "display_data"
    }
   ],
   "source": [
    "plt.hist(np.nan_to_num(cc),21)\n",
    "plt.title('correlation coefficient histogram')"
   ]
  },
  {
   "cell_type": "code",
   "execution_count": 51,
   "metadata": {
    "collapsed": false
   },
   "outputs": [
    {
     "data": {
      "text/plain": [
       "(3466, 55468)"
      ]
     },
     "execution_count": 51,
     "metadata": {},
     "output_type": "execute_result"
    }
   ],
   "source": [
    "out['weights'].shape"
   ]
  },
  {
   "cell_type": "code",
   "execution_count": 52,
   "metadata": {
    "collapsed": false
   },
   "outputs": [
    {
     "data": {
      "text/plain": [
       "array([15656, 16827, 16614, 16627, 14954, 14956, 16634, 15988, 15984,\n",
       "       15977, 19438, 19420, 19408, 14965, 16796, 16811, 21906, 16599,\n",
       "       16598, 16412, 16163, 16189, 16184, 14615, 16175, 14635, 14600,\n",
       "       14589, 16405, 14224, 14196, 21169, 14174, 14162, 16391, 19945,\n",
       "       16820, 16960, 16971, 18589, 17077, 15459, 20532, 20514, 15463,\n",
       "       15468, 15473, 17083, 17117, 17121, 17181, 15642, 15646, 15651,\n",
       "       18604, 19931, 18985, 15254, 15249, 17071, 18967, 14976, 15814,\n",
       "       15820, 15261, 15245, 15824, 15829, 19002, 16978, 14990, 37221,\n",
       "       48350, 21372, 20077,  8954, 20704,    84, 15619, 42948, 22883,\n",
       "       43843,  8955, 37247, 49219,  4925,  8210,   461, 43660,  1129,\n",
       "       19106, 46249, 48780,  5530, 36402,  2572, 38047,  8193, 54572,  3663])"
      ]
     },
     "execution_count": 52,
     "metadata": {},
     "output_type": "execute_result"
    }
   ],
   "source": [
    "voxel_idx = np.argsort(cc)[::-1][:100]\n",
    "voxel_idx"
   ]
  },
  {
   "cell_type": "code",
   "execution_count": 61,
   "metadata": {
    "collapsed": false
   },
   "outputs": [
    {
     "data": {
      "text/plain": [
       "[<matplotlib.lines.Line2D at 0x1228bf050>]"
      ]
     },
     "execution_count": 61,
     "metadata": {},
     "output_type": "execute_result"
    },
    {
     "data": {
      "image/png": "[encoded data removed]",
      "text/plain": [
       "<matplotlib.figure.Figure at 0x122d5b710>"
      ]
     },
     "metadata": {},
     "output_type": "display_data"
    }
   ],
   "source": [
    "plt.plot(data_est_masked[:,16184])"
   ]
  },
  {
   "cell_type": "code",
   "execution_count": 62,
   "metadata": {
    "collapsed": false
   },
   "outputs": [
    {
     "data": {
      "text/plain": [
       "0.0"
      ]
     },
     "execution_count": 62,
     "metadata": {},
     "output_type": "execute_result"
    }
   ],
   "source": [
    "np.var(data_est_masked[:,16184])"
   ]
  },
  {
   "cell_type": "code",
   "execution_count": 59,
   "metadata": {
    "collapsed": false
   },
   "outputs": [
    {
     "data": {
      "image/png": "[encoded data removed]",
      "text/plain": [
       "<matplotlib.figure.Figure at 0x1231e1a50>"
      ]
     },
     "metadata": {},
     "output_type": "display_data"
    }
   ],
   "source": [
    "plt.figure(figsize=(5,10))\n",
    "for n in range(4):\n",
    "#     i = voxel_idx[15656]\n",
    "    i=16184\n",
    "    pred_activity = vfs.dot(weights[:,i])\n",
    "    plt.subplot(4,n//4+1,n%4+1)\n",
    "    l1, = plt.plot(data_val_masked[:,i],'b')\n",
    "    l2, = plt.plot(pred_activity,'r')\n",
    "    plt.ylabel('BOLD response')\n",
    "    plt.xlabel('TRs')\n",
    "    plt.title('well predict voxel %d\\n'%i)\n",
    "    plt.legend([l1, l2], ['data','prediction'],loc=2)\n",
    "    \n",
    "plt.tight_layout()"
   ]
  },
  {
   "cell_type": "code",
   "execution_count": 243,
   "metadata": {
    "collapsed": false
   },
   "outputs": [
    {
     "data": {
      "text/plain": [
       "(1200, 34589)"
      ]
     },
     "execution_count": 243,
     "metadata": {},
     "output_type": "execute_result"
    }
   ],
   "source": [
    "data_est_masked.shape"
   ]
  },
  {
   "cell_type": "code",
   "execution_count": 213,
   "metadata": {
    "collapsed": false
   },
   "outputs": [
    {
     "data": {
      "text/plain": [
       "28432"
      ]
     },
     "execution_count": 213,
     "metadata": {},
     "output_type": "execute_result"
    }
   ],
   "source": [
    "sum(cc>0.6)"
   ]
  }
 ],
 "metadata": {
  "kernelspec": {
   "display_name": "Python 2",
   "language": "python",
   "name": "python2"
  },
  "language_info": {
   "codemirror_mode": {
    "name": "ipython",
    "version": 2
   },
   "file_extension": ".py",
   "mimetype": "text/x-python",
   "name": "python",
   "nbconvert_exporter": "python",
   "pygments_lexer": "ipython2",
   "version": "2.7.10"
  }
 },
 "nbformat": 4,
 "nbformat_minor": 0
}

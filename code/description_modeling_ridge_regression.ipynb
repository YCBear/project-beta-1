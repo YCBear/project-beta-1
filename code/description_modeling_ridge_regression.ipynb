{
 "cells": [
  {
   "cell_type": "markdown",
   "metadata": {},
   "source": [
    "## Imports"
   ]
  },
  {
   "cell_type": "code",
   "execution_count": 2,
   "metadata": {
    "collapsed": false
   },
   "outputs": [],
   "source": [
    "from utils import vmt_utils\n",
    "from utils import regression\n",
    "import matplotlib.pyplot as plt\n",
    "import numpy as np\n",
    "import copy\n",
    "import time\n",
    "import os\n",
    "import nibabel as nib\n",
    "# import h5py\n",
    "import cPickle"
   ]
  },
  {
   "cell_type": "code",
   "execution_count": 3,
   "metadata": {
    "collapsed": true
   },
   "outputs": [],
   "source": [
    "%matplotlib inline"
   ]
  },
  {
   "cell_type": "code",
   "execution_count": 4,
   "metadata": {
    "collapsed": false
   },
   "outputs": [
    {
     "data": {
      "text/plain": [
       "<module 'utils.regression' from 'utils/regression.pyc'>"
      ]
     },
     "execution_count": 4,
     "metadata": {},
     "output_type": "execute_result"
    }
   ],
   "source": [
    "reload(regression)"
   ]
  },
  {
   "cell_type": "markdown",
   "metadata": {},
   "source": [
    "## Get data"
   ]
  },
  {
   "cell_type": "code",
   "execution_count": 4,
   "metadata": {
    "collapsed": false
   },
   "outputs": [],
   "source": [
    "data = np.load('../../combined_runs.npy')\n",
    "# data_val = np.load('../../val_runs.npy')"
   ]
  },
  {
   "cell_type": "code",
   "execution_count": 5,
   "metadata": {
    "collapsed": false
   },
   "outputs": [
    {
     "data": {
      "text/plain": [
       "(132, 175, 48, 3543)"
      ]
     },
     "execution_count": 5,
     "metadata": {},
     "output_type": "execute_result"
    }
   ],
   "source": [
    "data.shape"
   ]
  },
  {
   "cell_type": "markdown",
   "metadata": {},
   "source": [
    "## Get feature space"
   ]
  },
  {
   "cell_type": "code",
   "execution_count": 10,
   "metadata": {
    "collapsed": false
   },
   "outputs": [],
   "source": [
    "# Get stimulus feature spaces\n",
    "stim_fs_fpath = '../description_pp/design_matrix_1.npy'\n",
    "stim_fs_file = np.load(stim_fs_fpath)\n",
    "stim_fs_file = stim_fs_file[:3543,:]"
   ]
  },
  {
   "cell_type": "code",
   "execution_count": 11,
   "metadata": {
    "collapsed": false
   },
   "outputs": [
    {
     "data": {
      "text/plain": [
       "(3543, 1155)"
      ]
     },
     "execution_count": 11,
     "metadata": {},
     "output_type": "execute_result"
    }
   ],
   "source": [
    "stim_fs_file.shape"
   ]
  },
  {
   "cell_type": "markdown",
   "metadata": {},
   "source": [
    "## Separate Trainig and testing data"
   ]
  },
  {
   "cell_type": "code",
   "execution_count": 12,
   "metadata": {
    "collapsed": false
   },
   "outputs": [],
   "source": [
    "e, v = 3000, 543"
   ]
  },
  {
   "cell_type": "code",
   "execution_count": 13,
   "metadata": {
    "collapsed": false
   },
   "outputs": [],
   "source": [
    "stim_fs_est = stim_fs_file[:e,:]\n",
    "stim_fs_val = stim_fs_file[:v,:]"
   ]
  },
  {
   "cell_type": "code",
   "execution_count": 14,
   "metadata": {
    "collapsed": false
   },
   "outputs": [
    {
     "name": "stdout",
     "output_type": "stream",
     "text": [
      "Estimation feature space shape: (3000, 1155)\n",
      "Validation feature space shape: (543, 1155)\n"
     ]
    }
   ],
   "source": [
    "print('Estimation feature space shape: %s'%repr(stim_fs_est.shape))\n",
    "print('Validation feature space shape: %s'%repr(stim_fs_val.shape))"
   ]
  },
  {
   "cell_type": "code",
   "execution_count": 16,
   "metadata": {
    "collapsed": false
   },
   "outputs": [],
   "source": [
    "data_est = data[...,:e]\n",
    "data_val = data[...,:v]"
   ]
  },
  {
   "cell_type": "code",
   "execution_count": 17,
   "metadata": {
    "collapsed": false
   },
   "outputs": [
    {
     "name": "stdout",
     "output_type": "stream",
     "text": [
      "Estimation data shape: (132, 175, 48, 3000)\n",
      "Validation data shape: (132, 175, 48, 543)\n"
     ]
    }
   ],
   "source": [
    "print('Estimation data shape: %s'%repr(data_est.shape))\n",
    "print('Validation data shape: %s'%repr(data_val.shape))"
   ]
  },
  {
   "cell_type": "markdown",
   "metadata": {},
   "source": [
    "## reshape 4D data to 2D and save it"
   ]
  },
  {
   "cell_type": "code",
   "execution_count": 13,
   "metadata": {
    "collapsed": false
   },
   "outputs": [],
   "source": [
    "data_sam = data_val[:,:,:,:250]"
   ]
  },
  {
   "cell_type": "code",
   "execution_count": 14,
   "metadata": {
    "collapsed": false
   },
   "outputs": [
    {
     "data": {
      "text/plain": [
       "(132, 175, 48, 250)"
      ]
     },
     "execution_count": 14,
     "metadata": {},
     "output_type": "execute_result"
    }
   ],
   "source": [
    "data_sam.shape"
   ]
  },
  {
   "cell_type": "code",
   "execution_count": 15,
   "metadata": {
    "collapsed": false
   },
   "outputs": [],
   "source": [
    "dv = data_sam.reshape((132*175*48, 250))"
   ]
  },
  {
   "cell_type": "code",
   "execution_count": 16,
   "metadata": {
    "collapsed": true
   },
   "outputs": [],
   "source": [
    "np.save('../../val_runs_reshaped.npy',dv)"
   ]
  },
  {
   "cell_type": "code",
   "execution_count": null,
   "metadata": {
    "collapsed": true
   },
   "outputs": [],
   "source": []
  },
  {
   "cell_type": "markdown",
   "metadata": {},
   "source": [
    "## Mask fMRI data"
   ]
  },
  {
   "cell_type": "code",
   "execution_count": 24,
   "metadata": {
    "collapsed": true
   },
   "outputs": [],
   "source": [
    "#load mask\n",
    "mask_f =  np.load('../brain_mask/mask34589.npy')"
   ]
  },
  {
   "cell_type": "code",
   "execution_count": 25,
   "metadata": {
    "collapsed": false
   },
   "outputs": [],
   "source": [
    "mask = mask_f.reshape((36,160,160))"
   ]
  },
  {
   "cell_type": "code",
   "execution_count": null,
   "metadata": {
    "collapsed": false
   },
   "outputs": [],
   "source": [
    "dvm = dv[mask_f,:]"
   ]
  },
  {
   "cell_type": "code",
   "execution_count": 52,
   "metadata": {
    "collapsed": false
   },
   "outputs": [
    {
     "data": {
      "text/plain": [
       "(34589, 468)"
      ]
     },
     "execution_count": 52,
     "metadata": {},
     "output_type": "execute_result"
    }
   ],
   "source": [
    "dvm.shape"
   ]
  },
  {
   "cell_type": "code",
   "execution_count": 51,
   "metadata": {
    "collapsed": true
   },
   "outputs": [],
   "source": [
    "np.save('../data/BOLD_val_masked34589.npy',dvm)"
   ]
  },
  {
   "cell_type": "code",
   "execution_count": null,
   "metadata": {
    "collapsed": false,
    "scrolled": false
   },
   "outputs": [],
   "source": [
    "data_est_masked = None\n",
    "for i in range(10):\n",
    "    print i\n",
    "    de1 = data_est[:,:,:,i*300:(i+1)*300].reshape((160*160*36, 300))\n",
    "    de1_masked = de1[mask,:]\n",
    "    if data_est_masked is None:\n",
    "        data_est_masked = de1_masked\n",
    "    data_est_masked = np.hstack((data_est_masked,de1_masked))"
   ]
  },
  {
   "cell_type": "code",
   "execution_count": 44,
   "metadata": {
    "collapsed": true
   },
   "outputs": [],
   "source": [
    "dem = data_est_masked[:,300:]"
   ]
  },
  {
   "cell_type": "code",
   "execution_count": 53,
   "metadata": {
    "collapsed": false
   },
   "outputs": [
    {
     "data": {
      "text/plain": [
       "(34589, 3000)"
      ]
     },
     "execution_count": 53,
     "metadata": {},
     "output_type": "execute_result"
    }
   ],
   "source": [
    "dem.shape"
   ]
  },
  {
   "cell_type": "code",
   "execution_count": 46,
   "metadata": {
    "collapsed": true
   },
   "outputs": [],
   "source": [
    "np.save('../data/BOLD_est_masked34589.npy',dem)"
   ]
  },
  {
   "cell_type": "code",
   "execution_count": 23,
   "metadata": {
    "collapsed": true
   },
   "outputs": [],
   "source": [
    "#a = np.array([[[1,2],[3,4]],[[5,6],[7,8]],[[9,10],[11,12]]])"
   ]
  },
  {
   "cell_type": "code",
   "execution_count": null,
   "metadata": {
    "collapsed": false
   },
   "outputs": [],
   "source": [
    "data_est_masked =  dem.T\n",
    "data_val_masked =  dvm.T\n",
    "# Show size of masked data\n",
    "print('Size of masked estimation data is %s'%repr(data_est_masked.shape))\n",
    "print('Size of masked validation data is %s'%repr(data_val_masked.shape))"
   ]
  },
  {
   "cell_type": "code",
   "execution_count": 14,
   "metadata": {
    "collapsed": false
   },
   "outputs": [
    {
     "name": "stdout",
     "output_type": "stream",
     "text": [
      "Size of masked estimation data is (1200, 58108)\n",
      "Size of masked validation data is (90, 58108)\n"
     ]
    }
   ],
   "source": [
    "# print('Size of masked estimation data is %s'%repr(data_est_masked.shape))\n",
    "# print('Size of masked validation data is %s'%repr(data_val_masked.shape))"
   ]
  },
  {
   "cell_type": "markdown",
   "metadata": {},
   "source": [
    "## Set up feature space matrix to do regression"
   ]
  },
  {
   "cell_type": "code",
   "execution_count": 229,
   "metadata": {
    "collapsed": false
   },
   "outputs": [],
   "source": [
    "# Create lagged stimulus matrix\n",
    "efs = vmt_utils.add_lags(stim_fs_est,[2,3,4])\n",
    "vfs = vmt_utils.add_lags(stim_fs_val,[2,3,4])\n",
    "# Add column of ones\n",
    "efs = vmt_utils.add_constant(efs,is_first=True)\n",
    "vfs = vmt_utils.add_constant(vfs,is_first=True)"
   ]
  },
  {
   "cell_type": "code",
   "execution_count": 230,
   "metadata": {
    "collapsed": false
   },
   "outputs": [
    {
     "name": "stdout",
     "output_type": "stream",
     "text": [
      "(1200, 3466)\n",
      "(90, 3466)\n"
     ]
    }
   ],
   "source": [
    "efs = efs[:1200,:]\n",
    "vfs = vfs[:90,:]\n",
    "print efs.shape\n",
    "print vfs.shape"
   ]
  },
  {
   "cell_type": "markdown",
   "metadata": {},
   "source": [
    "## Load masked data\n"
   ]
  },
  {
   "cell_type": "code",
   "execution_count": 231,
   "metadata": {
    "collapsed": false
   },
   "outputs": [
    {
     "name": "stdout",
     "output_type": "stream",
     "text": [
      "Size of masked estimation data is (1200, 34589)\n",
      "Size of masked validation data is (90, 34589)\n"
     ]
    }
   ],
   "source": [
    "data_est_masked = np.load('../data/BOLD_est_masked34589.npy').T[:1200,:]\n",
    "data_val_masked = np.load('../data/BOLD_val_masked34589.npy').T[:90,:]\n",
    "print('Size of masked estimation data is %s'%repr(data_est_masked.shape))\n",
    "print('Size of masked validation data is %s'%repr(data_val_masked.shape))"
   ]
  },
  {
   "cell_type": "markdown",
   "metadata": {},
   "source": [
    "## Run regression"
   ]
  },
  {
   "cell_type": "code",
   "execution_count": 159,
   "metadata": {
    "collapsed": false
   },
   "outputs": [
    {
     "data": {
      "text/plain": [
       "array([  1.00000000e+00,   4.64158883e+00,   2.15443469e+01,\n",
       "         1.00000000e+02,   4.64158883e+02,   2.15443469e+03,\n",
       "         1.00000000e+04,   4.64158883e+04,   2.15443469e+05,\n",
       "         1.00000000e+06])"
      ]
     },
     "execution_count": 159,
     "metadata": {},
     "output_type": "execute_result"
    }
   ],
   "source": [
    "alpha = np.logspace(0,6,10)\n",
    "alpha"
   ]
  },
  {
   "cell_type": "code",
   "execution_count": 216,
   "metadata": {
    "collapsed": false,
    "scrolled": false
   },
   "outputs": [
    {
     "name": "stdout",
     "output_type": "stream",
     "text": [
      "Running split 1/10\n",
      "Running chunk 1 of 6...\n",
      "\n",
      "Running chunk 2 of 6...\n",
      "\n",
      "Running chunk 3 of 6...\n",
      "\n",
      "Running chunk 4 of 6...\n",
      "\n",
      "Running chunk 5 of 6...\n",
      "\n",
      "Running chunk 6 of 6...\n",
      "\n",
      "Running split 2/10\n",
      "Running chunk 1 of 6...\n",
      "\n",
      "Running chunk 2 of 6...\n",
      "\n",
      "Running chunk 3 of 6...\n",
      "\n",
      "Running chunk 4 of 6...\n",
      "\n",
      "Running chunk 5 of 6...\n",
      "\n",
      "Running chunk 6 of 6...\n",
      "\n",
      "Running split 3/10\n",
      "Running chunk 1 of 6...\n",
      "\n",
      "Running chunk 2 of 6...\n",
      "\n",
      "Running chunk 3 of 6...\n",
      "\n",
      "Running chunk 4 of 6...\n",
      "\n",
      "Running chunk 5 of 6...\n",
      "\n",
      "Running chunk 6 of 6...\n",
      "\n",
      "Running split 4/10\n",
      "Running chunk 1 of 6...\n",
      "\n",
      "Running chunk 2 of 6...\n",
      "\n",
      "Running chunk 3 of 6...\n",
      "\n",
      "Running chunk 4 of 6...\n",
      "\n",
      "Running chunk 5 of 6...\n",
      "\n",
      "Running chunk 6 of 6...\n",
      "\n",
      "Running split 5/10\n",
      "Running chunk 1 of 6...\n",
      "\n",
      "Running chunk 2 of 6...\n",
      "\n",
      "Running chunk 3 of 6...\n",
      "\n",
      "Running chunk 4 of 6...\n",
      "\n",
      "Running chunk 5 of 6...\n",
      "\n",
      "Running chunk 6 of 6...\n",
      "\n",
      "Running split 6/10\n",
      "Running chunk 1 of 6...\n",
      "\n",
      "Running chunk 2 of 6...\n",
      "\n",
      "Running chunk 3 of 6...\n",
      "\n",
      "Running chunk 4 of 6...\n",
      "\n",
      "Running chunk 5 of 6...\n",
      "\n",
      "Running chunk 6 of 6...\n",
      "\n",
      "Running split 7/10\n",
      "Running chunk 1 of 6...\n",
      "\n",
      "Running chunk 2 of 6...\n",
      "\n",
      "Running chunk 3 of 6...\n",
      "\n",
      "Running chunk 4 of 6...\n",
      "\n",
      "Running chunk 5 of 6...\n",
      "\n",
      "Running chunk 6 of 6...\n",
      "\n",
      "Running split 8/10\n",
      "Running chunk 1 of 6...\n",
      "\n",
      "Running chunk 2 of 6...\n",
      "\n",
      "Running chunk 3 of 6...\n",
      "\n",
      "Running chunk 4 of 6...\n",
      "\n",
      "Running chunk 5 of 6...\n",
      "\n",
      "Running chunk 6 of 6...\n",
      "\n",
      "Running split 9/10\n",
      "Running chunk 1 of 6...\n",
      "\n",
      "Running chunk 2 of 6...\n",
      "\n",
      "Running chunk 3 of 6...\n",
      "\n",
      "Running chunk 4 of 6...\n",
      "\n",
      "Running chunk 5 of 6...\n",
      "\n",
      "Running chunk 6 of 6...\n",
      "\n",
      "Running split 10/10\n",
      "Running chunk 1 of 6...\n",
      "\n",
      "Running chunk 2 of 6...\n",
      "\n",
      "Running chunk 3 of 6...\n",
      "\n",
      "Running chunk 4 of 6...\n",
      "\n",
      "Running chunk 5 of 6...\n",
      "\n",
      "Running chunk 6 of 6...\n",
      "\n",
      "Finding best alpha...\n",
      "Best alpha = 21.544\n",
      "Computing weights and model predictions...\n",
      "Running chunk 1 of 6...\n",
      "\n",
      "Running chunk 2 of 6...\n",
      "\n",
      "Running chunk 3 of 6...\n",
      "\n",
      "Running chunk 4 of 6...\n",
      "\n",
      "Running chunk 5 of 6...\n",
      "\n",
      "Running chunk 6 of 6...\n",
      "\n",
      "Elapsed time is: 2 min, 35 sec\n"
     ]
    }
   ],
   "source": [
    "# Run regression \n",
    "n_splits = 10 # number of subdivisions of validation data for cross validation of ridge parameter (alpha)\n",
    "n_resamps = 10 # number of times to compute regression & prediction within training data (can be <= n_splits)\n",
    "chunk_sz = 6000 # number of voxels to fit at once. Memory-saving.\n",
    "pthr = 0.005 # Ridge parameter is chosen based on how many voxels are predicted above a correlation threshold \n",
    "             # for each alpha value (technically it's slightly more complicated than that, see the code). \n",
    "             # This p value sets that correlation threshold.\n",
    "t0 = time.time()\n",
    "\n",
    "out = regression.ridge_cv(efs,data_est_masked,val_fs=vfs,val_data=data_val_masked,alphas=alpha,n_resamps=n_resamps,\n",
    "                              n_splits=n_splits,chunk_sz=chunk_sz,pthr=pthr,is_verbose=True)\n",
    "\n",
    "t1 = time.time()\n",
    "print(\"Elapsed time is: %d min, %d sec\"%((t1-t0)/60,(t1-t0)%60))"
   ]
  },
  {
   "cell_type": "markdown",
   "metadata": {},
   "source": [
    "## Make sure estimation procedure chose a reasonable $\\alpha$ value\n",
    "There should be a somewhat obvious maximum in the curve plotted below"
   ]
  },
  {
   "cell_type": "code",
   "execution_count": 217,
   "metadata": {
    "collapsed": false
   },
   "outputs": [
    {
     "data": {
      "image/png": "[encoded data removed]",
      "text/plain": [
       "<matplotlib.figure.Figure at 0x10ff2cc50>"
      ]
     },
     "metadata": {},
     "output_type": "display_data"
    }
   ],
   "source": [
    "# Plot number of voxels with significant prediction accuracy within the \n",
    "# estimation data for each alpha value\n",
    "na = len(out['n_sig_vox_byalpha'])\n",
    "plt.plot(range(na),out['n_sig_vox_byalpha'],'ko-',lw=2)\n",
    "# plt.xticks(range(na),vmt.regression.DEFAULT_ALPHAS,rotation=45)\n",
    "plt.xticks(range(na),alpha,rotation=45)\n",
    "plt.xlabel('Regularization parameter')\n",
    "_ = plt.ylabel('Number of voxels\\naccurately predicted')"
   ]
  },
  {
   "cell_type": "markdown",
   "metadata": {},
   "source": [
    "## Display prediction accuracy results on the cortical surface"
   ]
  },
  {
   "cell_type": "code",
   "execution_count": 218,
   "metadata": {
    "collapsed": false
   },
   "outputs": [
    {
     "data": {
      "text/plain": [
       "(34589,)"
      ]
     },
     "execution_count": 218,
     "metadata": {},
     "output_type": "execute_result"
    }
   ],
   "source": [
    "out['cc'].shape"
   ]
  },
  {
   "cell_type": "code",
   "execution_count": 219,
   "metadata": {
    "collapsed": true
   },
   "outputs": [],
   "source": [
    "cc = out['cc']\n",
    "weights = out['weights']"
   ]
  },
  {
   "cell_type": "code",
   "execution_count": 225,
   "metadata": {
    "collapsed": false
   },
   "outputs": [
    {
     "data": {
      "text/plain": [
       "<matplotlib.text.Text at 0x10d73bc50>"
      ]
     },
     "execution_count": 225,
     "metadata": {},
     "output_type": "execute_result"
    },
    {
     "data": {
      "image/png": "[encoded data removed]",
      "text/plain": [
       "<matplotlib.figure.Figure at 0x1119c3b90>"
      ]
     },
     "metadata": {},
     "output_type": "display_data"
    }
   ],
   "source": [
    "plt.hist(np.nan_to_num(cc),21)\n",
    "plt.title('correlation coefficient histogram')"
   ]
  },
  {
   "cell_type": "code",
   "execution_count": 221,
   "metadata": {
    "collapsed": false
   },
   "outputs": [
    {
     "data": {
      "text/plain": [
       "(3466, 34589)"
      ]
     },
     "execution_count": 221,
     "metadata": {},
     "output_type": "execute_result"
    }
   ],
   "source": [
    "out['weights'].shape"
   ]
  },
  {
   "cell_type": "code",
   "execution_count": 236,
   "metadata": {
    "collapsed": false
   },
   "outputs": [
    {
     "data": {
      "text/plain": [
       "array([34160, 34500, 34448, 34505,   273, 34497, 34496, 34499, 30587,\n",
       "       34443, 34274, 34380,   496,  6625, 34379,  2195, 34498, 34385,\n",
       "         376, 34571, 28611, 34249, 34375, 11911, 34150,   178, 34504,\n",
       "       30603,   494,     9, 34495, 30065,   375, 14729,   523, 11913,\n",
       "        6912, 34253, 34374, 34440,   295, 20307, 34386, 33029, 34439,\n",
       "       34441, 34151, 14762,  7779,   374,   419,  2133,  2536, 34196,\n",
       "         309, 29573, 30054, 31573,   502,    56, 11601,  2196,  7183,\n",
       "       30568,   675, 34501, 34254,  2913,   952,   100, 33766, 33400,\n",
       "       34244,    99,  2540,   960, 30565, 34494, 31075, 34304,   158,\n",
       "       29577,    55, 31595,  2910,  3221, 31083,  9852,   690, 19959,\n",
       "       34193, 34309,  1717,   946, 33765,    63, 34447,   934, 28612, 14763])"
      ]
     },
     "execution_count": 236,
     "metadata": {},
     "output_type": "execute_result"
    }
   ],
   "source": [
    "voxel_idx = np.argsort(cc)[::-1][:100]\n",
    "voxel_idx"
   ]
  },
  {
   "cell_type": "code",
   "execution_count": 245,
   "metadata": {
    "collapsed": false
   },
   "outputs": [
    {
     "data": {
      "image/png": "[encoded data removed]",
      "text/plain": [
       "<matplotlib.figure.Figure at 0x10fe86a10>"
      ]
     },
     "metadata": {},
     "output_type": "display_data"
    }
   ],
   "source": [
    "plt.figure(figsize=(5,10))\n",
    "voxel_lst = [34160,273,496,30587]\n",
    "for n in range(4):\n",
    "    i = voxel_lst[n]\n",
    "    pred_activity = vfs.dot(weights[:,i])\n",
    "    plt.subplot(4,n//4+1,n%4+1)\n",
    "    l1, = plt.plot(data_val_masked[:,i],'b')\n",
    "    l2, = plt.plot(pred_activity,'r')\n",
    "    plt.ylabel('BOLD response')\n",
    "    plt.xlabel('TRs')\n",
    "    plt.title('well predict voxel %d\\n'%i)\n",
    "    plt.legend([l1, l2], ['data','prediction'],loc=2)\n",
    "    \n",
    "plt.tight_layout()"
   ]
  },
  {
   "cell_type": "code",
   "execution_count": 243,
   "metadata": {
    "collapsed": false
   },
   "outputs": [
    {
     "data": {
      "text/plain": [
       "(1200, 34589)"
      ]
     },
     "execution_count": 243,
     "metadata": {},
     "output_type": "execute_result"
    }
   ],
   "source": [
    "data_est_masked.shape"
   ]
  },
  {
   "cell_type": "code",
   "execution_count": 213,
   "metadata": {
    "collapsed": false
   },
   "outputs": [
    {
     "data": {
      "text/plain": [
       "28432"
      ]
     },
     "execution_count": 213,
     "metadata": {},
     "output_type": "execute_result"
    }
   ],
   "source": [
    "sum(cc>0.6)"
   ]
  },
  {
   "cell_type": "code",
   "execution_count": 173,
   "metadata": {
    "collapsed": true
   },
   "outputs": [],
   "source": [
    "# output the regression output\n",
    "output_fpath = '../data/regression_output.hdf5'"
   ]
  },
  {
   "cell_type": "code",
   "execution_count": 175,
   "metadata": {
    "collapsed": false
   },
   "outputs": [],
   "source": [
    "with h5py.File(output_fpath,'w') as f:\n",
    "#     brDset = f.create_dataset('br', br.shape, br.dtype)\n",
    "#     brDset[:] = br\n",
    "    \n",
    "    ccDset = f.create_dataset('cc', cc.shape, cc.dtype)\n",
    "    ccDset[:] = cc\n",
    "\n",
    "    weightsDset = f.create_dataset('weights',out['weights'].shape, out['weights'].dtype)\n",
    "    weightsDset[:] = out['weights']"
   ]
  },
  {
   "cell_type": "code",
   "execution_count": 98,
   "metadata": {
    "collapsed": false
   },
   "outputs": [
    {
     "data": {
      "text/plain": [
       "['cc', 'alpha', 'n_sig_vox_byalpha', 'weights']"
      ]
     },
     "execution_count": 98,
     "metadata": {},
     "output_type": "execute_result"
    }
   ],
   "source": [
    "out.keys()"
   ]
  },
  {
   "cell_type": "code",
   "execution_count": 224,
   "metadata": {
    "collapsed": false
   },
   "outputs": [],
   "source": [
    "# input the regression output in the case of firefox crash\n",
    "with h5py.File(output_fpath,'r') as hf:\n",
    "    br = hf['br'].value\n",
    "    weights = hf['weights'].value\n",
    "    cc = hf['cc'].value"
   ]
  },
  {
   "cell_type": "code",
   "execution_count": 187,
   "metadata": {
    "collapsed": false
   },
   "outputs": [
    {
     "data": {
      "text/plain": [
       "-0.14837539"
      ]
     },
     "execution_count": 187,
     "metadata": {},
     "output_type": "execute_result"
    }
   ],
   "source": [
    "np.nanmin(cc)"
   ]
  },
  {
   "cell_type": "code",
   "execution_count": 188,
   "metadata": {
    "collapsed": false
   },
   "outputs": [
    {
     "data": {
      "text/plain": [
       "0.9772557"
      ]
     },
     "execution_count": 188,
     "metadata": {},
     "output_type": "execute_result"
    }
   ],
   "source": [
    "np.nanmax(cc)"
   ]
  },
  {
   "cell_type": "code",
   "execution_count": 189,
   "metadata": {
    "collapsed": false
   },
   "outputs": [],
   "source": [
    "# load all the nouns in movie labels\n",
    "word_list_path = '../description_pp/word_list.p'\n",
    "f = file(word_list_path, 'rb')\n",
    "word_list = cPickle.load(f)\n",
    "f.close()"
   ]
  },
  {
   "cell_type": "code",
   "execution_count": 190,
   "metadata": {
    "collapsed": false
   },
   "outputs": [
    {
     "data": {
      "text/plain": [
       "1155"
      ]
     },
     "execution_count": 190,
     "metadata": {},
     "output_type": "execute_result"
    }
   ],
   "source": [
    "len(word_list)"
   ]
  },
  {
   "cell_type": "code",
   "execution_count": null,
   "metadata": {
    "collapsed": true
   },
   "outputs": [],
   "source": []
  }
 ],
 "metadata": {
  "kernelspec": {
   "display_name": "Python 2",
   "language": "python",
   "name": "python2"
  },
  "language_info": {
   "codemirror_mode": {
    "name": "ipython",
    "version": 2
   },
   "file_extension": ".py",
   "mimetype": "text/x-python",
   "name": "python",
   "nbconvert_exporter": "python",
   "pygments_lexer": "ipython2",
   "version": "2.7.10"
  }
 },
 "nbformat": 4,
 "nbformat_minor": 0
}
